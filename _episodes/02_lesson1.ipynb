{
 "cells": [
  {
   "cell_type": "markdown",
   "id": "ad716b9b",
   "metadata": {},
   "source": [
    "# Computational thinking: Problem-solving and data"
   ]
  },
  {
   "cell_type": "markdown",
   "id": "6fd41eeb",
   "metadata": {},
   "source": [
    "Programming is not about the language – it is about problem-solving and data. The issue that most people have with programming is that they don’t understand the problem they’re trying to solve. "
   ]
  },
  {
   "cell_type": "markdown",
   "id": "a0ace229",
   "metadata": {},
   "source": [
    "## What is an algorithm? What is a program?"
   ]
  },
  {
   "cell_type": "markdown",
   "id": "e4f58707",
   "metadata": {},
   "source": [
    "An algorithm is a sequence of steps that solve a specific problem. A program is a sequence of instructions that tells the computer to do something.\n",
    "They differ from each other in that an algorithm will solve the problem while a program implements an algorithm in a form that a computer can execute.\n",
    "\n",
    "\n",
    "A program is made of a few basic instructions:\n",
    "\n",
    "\n",
    "**input** Get data from the keyboard, a file, or some other device.\n",
    "\n",
    "**output** Display data on the screen or send data to a file or other device.\n",
    "\n",
    "**maths** Perform basic mathematical operations like addition and multiplication.\n",
    "\n",
    "**conditional execution** Check for certain conditions and execute the appropriate sequence of statements.\n",
    "\n",
    "**repetition** Perform some action repeatedly, usually with some variation.\n",
    "\n",
    "\n",
    "Taken from [How to Think Like a Computer Scientist](http://openbookproject.net/thinkcs/python/english3e/way_of_the_program.html)\n",
    "\n"
   ]
  },
  {
   "cell_type": "markdown",
   "id": "9c19b397",
   "metadata": {},
   "source": [
    "## Understanding algorithms"
   ]
  },
  {
   "cell_type": "markdown",
   "id": "0015574c",
   "metadata": {},
   "source": [
    "What will the counters 'inside', 'exit queue' and 'entrance queue' be equal to when this is flowchart is finished running ?"
   ]
  },
  {
   "cell_type": "markdown",
   "id": "401797fb",
   "metadata": {},
   "source": [
    "![carpark](../carpark.png)"
   ]
  },
  {
   "cell_type": "markdown",
   "id": "c8350ae7",
   "metadata": {},
   "source": [
    "## Creating algorithms"
   ]
  },
  {
   "cell_type": "markdown",
   "id": "d8103cd9",
   "metadata": {},
   "source": [
    "### Snakes, ladders & flowcharts"
   ]
  },
  {
   "cell_type": "markdown",
   "id": "f764749d",
   "metadata": {},
   "source": [
    "Snakes and ladders is dice game where players advance along the board based on the roll of the dice. Upon landing on a board square a player may either encounter a snake, where they are forced backwards a number of squares, a ladder, where they advance a number of squares, or nothing, in which case they remain on that square. A player wins when they reach the end of the board.\n",
    "\n",
    "Design a flowchart for the game. The total number of board squares should be 100, and the maximum number of squares a player is advanced or returned should be 30."
   ]
  },
  {
   "cell_type": "markdown",
   "id": "02b46020",
   "metadata": {},
   "source": [
    "If you want to create the flowchart online you can use this [website](https://excalidraw.com/) (used to create the above flowchart)"
   ]
  },
  {
   "cell_type": "markdown",
   "id": "1e9759e9",
   "metadata": {},
   "source": [
    "## Problem-solving"
   ]
  },
  {
   "cell_type": "markdown",
   "id": "c55bdccd",
   "metadata": {},
   "source": [
    "### Meet me at the zoo"
   ]
  },
  {
   "cell_type": "markdown",
   "id": "d1bea9cd",
   "metadata": {},
   "source": [
    "You want to send the same message to 3 different people named Vince, Howard and Bob \n",
    "informing them of their meeting time with you. \n",
    "The message should read:\n",
    "\n",
    "\"Dear [insert name], please meet me outside the zoo in 45 minutes\"\n",
    "\n",
    "What information and tools would you need to implement this in code?"
   ]
  },
  {
   "cell_type": "code",
   "execution_count": 8,
   "id": "eba87c45",
   "metadata": {},
   "outputs": [
    {
     "name": "stdout",
     "output_type": "stream",
     "text": [
      "Dear Vince, please meet me outside the zoo in 45 minutes\n",
      "Dear Howard, please meet me outside the zoo in 45 minutes\n",
      "Dear Bob, please meet me outside the zoo in 45 minutes\n"
     ]
    }
   ],
   "source": [
    "message='Dear name, please meet me outside the zoo in 45 minutes'\n",
    "names=['Vince', 'Howard', 'Bob']\n",
    "\n",
    "for name in names:\n",
    "    tosend=message.replace('name', name)\n",
    "    print(tosend)"
   ]
  },
  {
   "cell_type": "markdown",
   "id": "9ed5f585",
   "metadata": {},
   "source": [
    "### Palindromes"
   ]
  },
  {
   "cell_type": "markdown",
   "id": "628794c5",
   "metadata": {},
   "source": [
    "A palindrome is a word or sentence that is unaltered when read backwards. Examples of palindromes are \"Was it a rat I saw?\", \"Satan, oscillate my metallic sonatas\", \"I roamed under it as a tired, nude Maori\", or \"Rise to vote sir!\". Note that punctuation, capitalization, and spacing are ignored.\n",
    "\n",
    "You want to write a program that asks a user to input a phrase and then responds \"YES\" or \"NO\" depending on whether it is a palindrome. \n",
    "\n",
    "What would you need to do to implement this? How would you go about it?\n",
    "\n",
    "Adapted from [Fabrizio Smeraldi](https://github.com/fsmeraldi/c4s-functions/blob/master/Functions_and_Modules-Exercises.ipynb)"
   ]
  },
  {
   "cell_type": "code",
   "execution_count": 46,
   "id": "aad37663",
   "metadata": {},
   "outputs": [
    {
     "name": "stdout",
     "output_type": "stream",
     "text": [
      "Is this a palindrome?: lisabonetatenobasil\n",
      "YES\n"
     ]
    }
   ],
   "source": [
    "pal_for=input('Is this a palindrome?: ')\n",
    "pal_for=pal_for.lower()\n",
    "pal_for=''.join(x for x in pal_for if x.isalpha())\n",
    "\n",
    "pal_rev=pal_for[::-1]\n",
    "\n",
    "if pal_rev == pal_for:\n",
    "    print('YES')\n",
    "else:\n",
    "    print('NO')"
   ]
  },
  {
   "cell_type": "markdown",
   "id": "fc798536",
   "metadata": {},
   "source": [
    "### 101 candles"
   ]
  },
  {
   "cell_type": "markdown",
   "id": "b6652d73",
   "metadata": {},
   "source": [
    "Your grandmother is turning 101. You want to add 101 candles to the cake that you've baked her, lighting each one as you go. \n",
    "\n",
    "How would you implement this?"
   ]
  },
  {
   "cell_type": "markdown",
   "id": "6ef939ac",
   "metadata": {},
   "source": [
    "## Implementation vs algorithm"
   ]
  },
  {
   "cell_type": "markdown",
   "id": "d0b00ff4",
   "metadata": {},
   "source": [
    "Create a program that asks a user for x and y values and then returns the sum of them."
   ]
  },
  {
   "cell_type": "code",
   "execution_count": 51,
   "id": "a4d63dde",
   "metadata": {},
   "outputs": [
    {
     "name": "stdout",
     "output_type": "stream",
     "text": [
      "X = 6\n",
      "Y = 5\n",
      "65\n"
     ]
    }
   ],
   "source": [
    "x=input('X = ')\n",
    "y=input('Y = ')\n",
    "print(x+y)"
   ]
  },
  {
   "cell_type": "markdown",
   "id": "442f2648",
   "metadata": {},
   "source": [
    "\n",
    "#### Hmm... did you tell it what to do incorrectly? Or did you tell it to do the wrong thing?\n",
    "\n",
    "Often what we think are issues with implementation are actually issues of algorithm. "
   ]
  },
  {
   "cell_type": "markdown",
   "id": "7cff991d",
   "metadata": {},
   "source": [
    "Now try adding 'computational' and 'thinking'. What is the difference between these types of input? Clue: type()"
   ]
  },
  {
   "cell_type": "code",
   "execution_count": 52,
   "id": "50dad84d",
   "metadata": {},
   "outputs": [
    {
     "name": "stdout",
     "output_type": "stream",
     "text": [
      "computationalthinking\n"
     ]
    }
   ],
   "source": [
    "print('computational'+'thinking')"
   ]
  },
  {
   "cell_type": "markdown",
   "id": "93468b2c",
   "metadata": {},
   "source": [
    "Concepts, algorithms and tools - iteration, looking for a pattern, what part of your problem is the same at each step and where does it differ?"
   ]
  }
 ],
 "metadata": {
  "kernelspec": {
   "display_name": "Python 3 (ipykernel)",
   "language": "python",
   "name": "python3"
  },
  "language_info": {
   "codemirror_mode": {
    "name": "ipython",
    "version": 3
   },
   "file_extension": ".py",
   "mimetype": "text/x-python",
   "name": "python",
   "nbconvert_exporter": "python",
   "pygments_lexer": "ipython3",
   "version": "3.9.12"
  }
 },
 "nbformat": 4,
 "nbformat_minor": 5
}
